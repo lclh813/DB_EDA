{
 "cells": [
  {
   "cell_type": "markdown",
   "metadata": {},
   "source": [
    "## 5. Data Visualization\n",
    "### 5.3. Plot Interactive Bar Chart by Bokeh"
   ]
  },
  {
   "cell_type": "code",
   "execution_count": null,
   "metadata": {},
   "outputs": [],
   "source": [
    "grouped = df4.groupby('T')"
   ]
  },
  {
   "cell_type": "code",
   "execution_count": null,
   "metadata": {},
   "outputs": [],
   "source": [
    "output_notebook()\n",
    "g = []\n",
    "targets = grouped.groups.keys()"
   ]
  },
  {
   "cell_type": "code",
   "execution_count": null,
   "metadata": {},
   "outputs": [],
   "source": [
    "for i, key in enumerate(targets):\n",
    "\n",
    "    if key > 8:\n",
    "        break\n",
    "\n",
    "    sector_list = list(grouped.get_group(key)['R'])[:20]\n",
    "    count_list = list(grouped.get_group(key)['S'])[:20]\n",
    "    \n",
    "    source = ColumnDataSource(data={\n",
    "        'sectors': sector_list,\n",
    "        'counts': count_list,\n",
    "    })\n",
    "    \n",
    "    mapper = LinearColorMapper(palette=Viridis256, \n",
    "                               low=grouped.get_group(key)['S'].values.min(), \n",
    "                               high=grouped.get_group(key)['S'].values.max())\n",
    "\n",
    "    p = figure(x_range=sector_list, plot_height=10, plot_width=110, title='分組%d'% (key+1),\n",
    "               toolbar_location=None, tools=\"\", tooltips=[('類型', '@sectors')])\n",
    "\n",
    "    p.vbar(x='sectors', top='counts', width=0.9, source=source, fill_color=transform('counts', mapper), \n",
    "           line_color=\"white\", line_width=0.05)\n",
    "    \n",
    "    if key < 6:\n",
    "        color_bar = ColorBar(color_mapper=mapper, location=(2, 2),\n",
    "                             ticker=BasicTicker(desired_num_ticks=10),\n",
    "                             formatter=NumeralTickFormatter(format='0,0'))\n",
    "    else:\n",
    "        color_bar = ColorBar(color_mapper=mapper, location=(2, 2),\n",
    "                             ticker=BasicTicker(desired_num_ticks=10),\n",
    "                             formatter=NumeralTickFormatter(format='0.0[00]'))\n",
    "\n",
    "    p.add_layout(color_bar, 'right')\n",
    "\n",
    "    p.xgrid.grid_line_color = None\n",
    "    p.xaxis.visible = False\n",
    "    p.y_range.start = 0\n",
    "    \n",
    "    if key < 6:\n",
    "        p.yaxis.formatter = NumeralTickFormatter(format='0,0')\n",
    "    else:\n",
    "        p.yaxis.formatter = NumeralTickFormatter(format='0.0[00]')        \n",
    "     \n",
    "    g.append(p)\n",
    "\n",
    "grid = gridplot(g, ncols=3, plot_width=420, plot_height=420)  \n",
    "show(grid)"
   ]
  }
 ],
 "metadata": {
  "kernelspec": {
   "display_name": "Python 3",
   "language": "python",
   "name": "python3"
  },
  "language_info": {
   "codemirror_mode": {
    "name": "ipython",
    "version": 3
   },
   "file_extension": ".py",
   "mimetype": "text/x-python",
   "name": "python",
   "nbconvert_exporter": "python",
   "pygments_lexer": "ipython3",
   "version": "3.6.5"
  }
 },
 "nbformat": 4,
 "nbformat_minor": 2
}
