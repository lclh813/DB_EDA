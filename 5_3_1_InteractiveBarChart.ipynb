{
 "cells": [
  {
   "cell_type": "markdown",
   "metadata": {},
   "source": [
    "## 5. Data Visualization\n",
    "### 5.3. Plot Interactive Bar Chart by Bokeh"
   ]
  },
  {
   "cell_type": "code",
   "execution_count": null,
   "metadata": {},
   "outputs": [],
   "source": [
    "# Get unique values in column \"Comma.\" \n",
    "grouped = df4.groupby('Comma')"
   ]
  },
  {
   "cell_type": "code",
   "execution_count": null,
   "metadata": {},
   "outputs": [],
   "source": [
    "# Create an empty list to store plots to be arranged in a grid. \n",
    "g = []"
   ]
  },
  {
   "cell_type": "code",
   "execution_count": null,
   "metadata": {},
   "outputs": [],
   "source": [
    "# Get keys of \"grouped\" which are the number of commas.\n",
    "targets = grouped.groups.keys()"
   ]
  },
  {
   "cell_type": "code",
   "execution_count": null,
   "metadata": {},
   "outputs": [],
   "source": [
    "# Configure an output to a standalone HTML file.\n",
    "output_file('5_3_2_InteractiveBarChart.html')"
   ]
  },
  {
   "cell_type": "code",
   "execution_count": null,
   "metadata": {},
   "outputs": [],
   "source": [
    "for i, key in enumerate(targets):\n",
    "\n",
    "    # When the number of commas is greater than 8, \n",
    "    # there exists less than 20 records and hence should be excluded from further visualization. \n",
    "    if key > 8:\n",
    "        break\n",
    "\n",
    "    # Get top 20 by column \"Count\" and their \"Fruit_Type\" and the number of \"Count\" accordingly.\n",
    "    type_list = list(grouped.get_group(key)['Fruit_Type'])[:20]\n",
    "    count_list = list(grouped.get_group(key)['Count'])[:20]\n",
    "    \n",
    "    # Specify the records to be plotted\n",
    "    source = ColumnDataSource(data={\n",
    "        'types': type_list,\n",
    "        'counts': count_list,\n",
    "    })\n",
    "    \n",
    "    # Set the colorbar legend with limits determined by corresponding number of \"Count\"  \n",
    "    mapper = LinearColorMapper(palette=Viridis256, \n",
    "                               low=grouped.get_group(key)['Count'].values.min(), \n",
    "                               high=grouped.get_group(key)['Count'].values.max())\n",
    "\n",
    "    # Set overall formats of the subplot \n",
    "    # among which the most important is to specify the display of tooltips.\n",
    "    p = figure(x_range=type_list, plot_height=10, plot_width=110, title='分組%d'% (key+1),\n",
    "               toolbar_location=None, tools=\"\", tooltips=[('類型', '@types')])\n",
    "    \n",
    "    # Create a vertical bar chart with X-axis showing \"Fruit Type\" whose number of \"Count\" is among top 20\n",
    "    # and with bar height reflecting the number of \"Count.\"\n",
    "    p.vbar(x='types', top='counts', width=0.9, source=source, fill_color=transform('counts', mapper), \n",
    "           line_color=\"white\", line_width=0.05)\n",
    "    \n",
    "    # When the number of commas is less than 6,\n",
    "    # which suggests that the record of \"Fruit Type\" contains 7 kinds of fruit,\n",
    "    # add thousand separator to tick labels of the colorbar.  \n",
    "    if key < 6:\n",
    "        color_bar = ColorBar(color_mapper=mapper, location=(2, 2),\n",
    "                             ticker=BasicTicker(desired_num_ticks=10),\n",
    "                             formatter=NumeralTickFormatter(format='0,0'))\n",
    "        \n",
    "    # When the number of commas is greater than or equal to 6,\n",
    "    # which suggests that the record of \"Fruit Type\" contains no less than 7 kinds of fruit,\n",
    "    # add decimal points to tick labels of the colorbar. \n",
    "    else:\n",
    "        color_bar = ColorBar(color_mapper=mapper, location=(2, 2),\n",
    "                             ticker=BasicTicker(desired_num_ticks=10),\n",
    "                             formatter=NumeralTickFormatter(format='0.0[00]'))\n",
    "    \n",
    "    # Set the position of the colorbar.\n",
    "    p.add_layout(color_bar, 'right')\n",
    "\n",
    "    # Make X-grid invisible.\n",
    "    p.xgrid.grid_line_color = None\n",
    "    \n",
    "    # Make X-axis invisible.\n",
    "    p.xaxis.visible = False\n",
    "    \n",
    "    # Start the vertical scale at 0.\n",
    "    p.y_range.start = 0\n",
    "    \n",
    "    # When the number of commas is less than 6,\n",
    "    # which suggests that the record of \"Fruit Type\" contains 7 kinds of fruit,\n",
    "    # add thousand separator to labels of Y-axis. \n",
    "    if key < 6:\n",
    "        p.yaxis.formatter = NumeralTickFormatter(format='0,0')\n",
    "    \n",
    "    # When the number of commas is greater than or equal to 6,\n",
    "    # which suggests that the record of \"Fruit Type\" contains no less than 7 kinds of fruit,\n",
    "    # add decimal points to labels of Y-axis.  \n",
    "    else:\n",
    "        p.yaxis.formatter = NumeralTickFormatter(format='0.0[00]')        \n",
    "     \n",
    "    # Add the subplot to list \"g.\"\n",
    "    g.append(p)\n",
    "\n",
    "# Create a grid where all of the subplots will be placed.\n",
    "grid = gridplot(g, ncols=3, plot_width=420, plot_height=420) \n",
    "show(grid)"
   ]
  }
 ],
 "metadata": {
  "kernelspec": {
   "display_name": "Python 3",
   "language": "python",
   "name": "python3"
  },
  "language_info": {
   "codemirror_mode": {
    "name": "ipython",
    "version": 3
   },
   "file_extension": ".py",
   "mimetype": "text/x-python",
   "name": "python",
   "nbconvert_exporter": "python",
   "pygments_lexer": "ipython3",
   "version": "3.6.5"
  }
 },
 "nbformat": 4,
 "nbformat_minor": 2
}
