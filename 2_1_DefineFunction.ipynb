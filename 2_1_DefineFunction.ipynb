{
 "cells": [
  {
   "cell_type": "markdown",
   "metadata": {},
   "source": [
    "## 2.1. Define Function"
   ]
  },
  {
   "cell_type": "markdown",
   "metadata": {},
   "source": [
    "### 2.1.1. Define Function to Execute Database Commands"
   ]
  },
  {
   "cell_type": "code",
   "execution_count": null,
   "metadata": {},
   "outputs": [],
   "source": [
    "def execute_db(fname, sql_cmd):\n",
    "    # Establish a connection to SQLite database by creating a connection object \"conn.\"\n",
    "    conn = sqlite3.connect(fname)\n",
    "    # Create a cursor object using the cursor method of \"conn.\"\n",
    "    c = conn.cursor()\n",
    "    # Call the cursor’s execute method. \n",
    "    c.execute(sql_cmd)\n",
    "    # Save the changes.\n",
    "    conn.commit()\n",
    "    # Close the connection.\n",
    "    conn.close()"
   ]
  },
  {
   "cell_type": "markdown",
   "metadata": {},
   "source": [
    "### 2.1.2. Define Function to Select Data from Database"
   ]
  },
  {
   "cell_type": "code",
   "execution_count": 2,
   "metadata": {},
   "outputs": [],
   "source": [
    "def select_db(fname, sql_cmd):\n",
    "    # Establish a connection to SQLite database by creating a connection object \"conn.\"\n",
    "    conn = sqlite3.connect(fname)\n",
    "    # Create a cursor object using the cursor method of \"conn.\"\n",
    "    c = conn.cursor()\n",
    "    # Call the cursor’s execute method. \n",
    "    c.execute(sql_cmd)\n",
    "    # Fetch all rows of a query result.\n",
    "    rows = c.fetchall()\n",
    "    # Close the connection.\n",
    "    conn.close()\n",
    "    # Return query results. \n",
    "    return rows"
   ]
  }
 ],
 "metadata": {
  "kernelspec": {
   "display_name": "Python 3",
   "language": "python",
   "name": "python3"
  },
  "language_info": {
   "codemirror_mode": {
    "name": "ipython",
    "version": 3
   },
   "file_extension": ".py",
   "mimetype": "text/x-python",
   "name": "python",
   "nbconvert_exporter": "python",
   "pygments_lexer": "ipython3",
   "version": "3.6.5"
  }
 },
 "nbformat": 4,
 "nbformat_minor": 2
}
