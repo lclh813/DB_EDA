{
 "cells": [
  {
   "cell_type": "markdown",
   "metadata": {},
   "source": [
    "## 4. Exploratory Data Analysis"
   ]
  },
  {
   "cell_type": "code",
   "execution_count": null,
   "metadata": {},
   "outputs": [],
   "source": [
    "# Copy \"outcome\" for further analysis to prevent data corruption.\n",
    "eda1 = outcome.copy()"
   ]
  },
  {
   "cell_type": "code",
   "execution_count": null,
   "metadata": {},
   "outputs": [],
   "source": [
    "# 1st Groupby: \n",
    "# Split data into groups by \"Store\" and \"Fruit_Type\" to count frequencies of unique values. \n",
    "eda2 = eda1.groupby(['Store','Fruit_Type']).size().reset_index()\n",
    "eda2.head()"
   ]
  },
  {
   "cell_type": "code",
   "execution_count": null,
   "metadata": {},
   "outputs": [],
   "source": [
    "# Remove the 3rd column which is of no use to further analysis\n",
    "eda3 = eda2.drop(eda2.columns[2], axis = 1)\n",
    "eda3.head()"
   ]
  },
  {
   "cell_type": "code",
   "execution_count": null,
   "metadata": {},
   "outputs": [],
   "source": [
    "# 2nd Groupby:\n",
    "# Split data into groups by \"Store\" and join \"Fruit_Type\" by \",\" for each row of records.\n",
    "eda4 = eda3.groupby('Store')['Fruit_Type'].apply(','.join).reset_index()\n",
    "eda4.head()"
   ]
  },
  {
   "cell_type": "code",
   "execution_count": null,
   "metadata": {},
   "outputs": [],
   "source": [
    "# 3rd Groupby:\n",
    "# Split data into groups by \"Fruit_Type\" and count frequencies of unique values.\n",
    "eda5 = eda4.groupby('Fruit_Type').size().reset_index()\n",
    "eda5.head()"
   ]
  },
  {
   "cell_type": "code",
   "execution_count": null,
   "metadata": {},
   "outputs": [],
   "source": [
    "# Name the column of returned values as \"Count.\"\n",
    "eda5.columns = ['Fruit', 'Count']\n",
    "eda5.head()"
   ]
  },
  {
   "cell_type": "code",
   "execution_count": null,
   "metadata": {},
   "outputs": [],
   "source": [
    "# Export analysis result to csv file.\n",
    "eda5.to_csv(\"G:\\\\Analysis.csv\", index = False, encoding = \"ansi\")"
   ]
  }
 ],
 "metadata": {
  "kernelspec": {
   "display_name": "Python 3",
   "language": "python",
   "name": "python3"
  },
  "language_info": {
   "codemirror_mode": {
    "name": "ipython",
    "version": 3
   },
   "file_extension": ".py",
   "mimetype": "text/x-python",
   "name": "python",
   "nbconvert_exporter": "python",
   "pygments_lexer": "ipython3",
   "version": "3.6.5"
  }
 },
 "nbformat": 4,
 "nbformat_minor": 2
}
