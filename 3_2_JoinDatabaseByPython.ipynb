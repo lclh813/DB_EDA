{
 "cells": [
  {
   "cell_type": "markdown",
   "metadata": {},
   "source": [
    "## 3. Combine Data from Two Databases"
   ]
  },
  {
   "cell_type": "markdown",
   "metadata": {},
   "source": [
    "### 3.2. Option 2: Combine Data by Python"
   ]
  },
  {
   "cell_type": "code",
   "execution_count": null,
   "metadata": {},
   "outputs": [],
   "source": [
    "# Establish a connection to SQLite database \"db1.\"\n",
    "conn_data1 = sqlite3.connect('db1.sqlite')\n",
    "# Create a cursor object using the cursor method of \"conn_data1.\"\n",
    "cursor_data1 = conn_data1.cursor()\n",
    "# Save the changes.\n",
    "conn_data1.commit()\n",
    "# Return all records from table \"Data1\" in \"db1.\" \n",
    "data1 = pd.read_sql_query('''\n",
    "                          SELECT *\n",
    "                          FROM main.Data1\n",
    "                          ''', conn_data1)\n",
    "# Close the connection.\n",
    "conn_data1.close()"
   ]
  },
  {
   "cell_type": "code",
   "execution_count": null,
   "metadata": {},
   "outputs": [],
   "source": [
    "# Get the first 4 letters of the string for all records in \"Fruit_Name_ID\" \n",
    "# and name the column of returned values as \"Fruit_Type_ID.\"\n",
    "data1['Fruit_Type_ID'] = data1['Fruit_Name_ID'].str.slice(0,4)"
   ]
  },
  {
   "cell_type": "code",
   "execution_count": null,
   "metadata": {},
   "outputs": [],
   "source": [
    "# Establish a connection to SQLite database \"db2.\"\n",
    "conn_data2 = sqlite3.connect('db2.sqlite')\n",
    "# Create a cursor object using the cursor method of \"conn_data2.\"\n",
    "cursor_data2 = conn_data2.cursor()\n",
    "# Save the changes.\n",
    "conn_data2.commit()\n",
    "# Return all records from table \"Data2\" in \"db2.\" \n",
    "data2 = pd.read_sql_query('''\n",
    "                          SELECT *\n",
    "                          FROM main.Data2\n",
    "                          ''', conn_data2)\n",
    "# Close the connection.\n",
    "conn_data2.close()"
   ]
  },
  {
   "cell_type": "code",
   "execution_count": null,
   "metadata": {},
   "outputs": [],
   "source": [
    "# Return all records from the left table \"Data1\" in \"db1\"\n",
    "# and the matched records from the right table \"Data2\"\n",
    "# on the condition that the two tables share the same \"Fruit_Type_ID.\" \n",
    "outcome = data1.merge(data2, left_on='Fruit_Type_ID', right_on='Fruit_Type_ID', how='left')"
   ]
  },
  {
   "cell_type": "code",
   "execution_count": null,
   "metadata": {},
   "outputs": [],
   "source": [
    "# Remove columns by coulmn names.\n",
    "outcome = outcome.drop('id_x', axis = 1)\n",
    "outcome = outcome.drop('id_y', axis = 1)"
   ]
  }
 ],
 "metadata": {
  "kernelspec": {
   "display_name": "Python 3",
   "language": "python",
   "name": "python3"
  },
  "language_info": {
   "codemirror_mode": {
    "name": "ipython",
    "version": 3
   },
   "file_extension": ".py",
   "mimetype": "text/x-python",
   "name": "python",
   "nbconvert_exporter": "python",
   "pygments_lexer": "ipython3",
   "version": "3.6.5"
  }
 },
 "nbformat": 4,
 "nbformat_minor": 2
}
