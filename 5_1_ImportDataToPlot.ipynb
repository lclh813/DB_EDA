{
 "cells": [
  {
   "cell_type": "markdown",
   "metadata": {},
   "source": [
    "## 5. Data Visualization"
   ]
  },
  {
   "cell_type": "markdown",
   "metadata": {},
   "source": [
    "### 5.1. Import Data for Plotting"
   ]
  },
  {
   "cell_type": "code",
   "execution_count": null,
   "metadata": {},
   "outputs": [],
   "source": [
    "# Import data from csv file\n",
    "# and assign the result to an object named \"df1.\"\n",
    "df1 = pd.read_csv(\"G:\\\\Analysis.csv\", encoding = 'ansi')\n",
    "df1.head()"
   ]
  },
  {
   "cell_type": "code",
   "execution_count": null,
   "metadata": {},
   "outputs": [],
   "source": [
    "# Count the number of comma in column \"Fruit_Type\" for each string \n",
    "# and assign the result to an object named \"df2.\"\n",
    "df2 = df1['Fruit_Type'].str.count(',').to_frame()\n",
    "# Change column name to \"Comma\"\n",
    "df2.columns = ['Comma']"
   ]
  },
  {
   "cell_type": "code",
   "execution_count": null,
   "metadata": {},
   "outputs": [],
   "source": [
    "# Add column \"Comma\" to df1 \n",
    "# and assign the result to an object named \"df3.\"\n",
    "df3 = df1.join(df2)\n",
    "df3.head()"
   ]
  },
  {
   "cell_type": "code",
   "execution_count": null,
   "metadata": {},
   "outputs": [],
   "source": [
    "# Get unique values in column \"Comma.\" \n",
    "commas = list(df3.groupby('Comma').size().to_frame().reset_index()['Comma']) \n",
    "print(commas)\n",
    "# Count the number of unique values in column \"Comma\" \n",
    "# to determine the number of figures to be displayed.\n",
    "df3.groupby('Comma').size().count()"
   ]
  },
  {
   "cell_type": "code",
   "execution_count": null,
   "metadata": {},
   "outputs": [],
   "source": [
    "# Create an empty dataframe named df4.\n",
    "df4 = pd.DataFrame() "
   ]
  },
  {
   "cell_type": "code",
   "execution_count": null,
   "metadata": {},
   "outputs": [],
   "source": [
    "# For each unique value in column \"Comma,\" \n",
    "# sort df3 in descending order by column \"Count\" from which top 20 elements are to be selected\n",
    "# and added to df4. \n",
    "for comma in commas:\n",
    "    temp = df3[df3['Comma'] == comma].sort_values(['Count'], ascending = False)[0:20]\n",
    "    df4 = df4.append(temp)\n",
    "df4.head()"
   ]
  }
 ],
 "metadata": {
  "kernelspec": {
   "display_name": "Python 3",
   "language": "python",
   "name": "python3"
  },
  "language_info": {
   "codemirror_mode": {
    "name": "ipython",
    "version": 3
   },
   "file_extension": ".py",
   "mimetype": "text/x-python",
   "name": "python",
   "nbconvert_exporter": "python",
   "pygments_lexer": "ipython3",
   "version": "3.6.5"
  }
 },
 "nbformat": 4,
 "nbformat_minor": 2
}
