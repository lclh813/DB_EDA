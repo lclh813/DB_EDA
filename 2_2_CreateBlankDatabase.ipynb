{
 "cells": [
  {
   "cell_type": "markdown",
   "metadata": {},
   "source": [
    "## 2.2. Create Blank Database"
   ]
  },
  {
   "cell_type": "markdown",
   "metadata": {},
   "source": [
    "### 2.2.1. Create a Blank Database for Data 1"
   ]
  },
  {
   "cell_type": "code",
   "execution_count": null,
   "metadata": {},
   "outputs": [],
   "source": [
    "db_name = 'db1.sqlite'\n",
    "cmd = (\"CREATE TABLE Data1 \"\n",
    "       \"(id INTEGER PRIMARY KEY AUTOINCREMENT, A TEXT, \"\n",
    "       \"B TEXT, C TEXT, D TEXT, E TEXT, \"\n",
    "       \"F INTEGER, G TEXT, H TEXT, I TEXT, \"\n",
    "       \"J INTEGER, K TEXT, L TEXT, M TEXT)\")\n",
    "execute_db(db_name, cmd)"
   ]
  }
 ],
 "metadata": {
  "kernelspec": {
   "display_name": "Python 3",
   "language": "python",
   "name": "python3"
  },
  "language_info": {
   "codemirror_mode": {
    "name": "ipython",
    "version": 3
   },
   "file_extension": ".py",
   "mimetype": "text/x-python",
   "name": "python",
   "nbconvert_exporter": "python",
   "pygments_lexer": "ipython3",
   "version": "3.6.5"
  }
 },
 "nbformat": 4,
 "nbformat_minor": 2
}
