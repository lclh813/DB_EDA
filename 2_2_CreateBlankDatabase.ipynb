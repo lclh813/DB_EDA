{
 "cells": [
  {
   "cell_type": "markdown",
   "metadata": {},
   "source": [
    "## 2.2. Create Blank Database"
   ]
  },
  {
   "cell_type": "markdown",
   "metadata": {},
   "source": [
    "### 2.2.1. Create a Blank Database for Data 1"
   ]
  },
  {
   "cell_type": "code",
   "execution_count": null,
   "metadata": {},
   "outputs": [],
   "source": [
    "# Create a SQLite database file named \"db1.\" \n",
    "db_name = 'db1.sqlite'\n",
    "# Create a table named \"Data1.\"\n",
    "cmd = (\"CREATE TABLE Data1 \"\n",
    "       \"(id INTEGER PRIMARY KEY AUTOINCREMENT, \"\n",
    "       \"Store TEXT, Order TEXT, \"\n",
    "       \"Fruit_Name_ID TEXT, Fruit_Name TEXT, \"\n",
    "       \"Qty INTEGER)\")\n",
    "# Execute function \"execute_db\" with \"fname\" and \"sql_cmd\" being specified. \n",
    "execute_db(db_name, cmd)"
   ]
  },
  {
   "cell_type": "markdown",
   "metadata": {},
   "source": [
    "### 2.2.2. Create a Blank Database for Data 2"
   ]
  },
  {
   "cell_type": "code",
   "execution_count": null,
   "metadata": {},
   "outputs": [],
   "source": [
    "# Create a SQLite database file named \"db2.\" \n",
    "db_name = 'db2.sqlite'\n",
    "# Create a table named \"Data2.\"\n",
    "cmd = (\"CREATE TABLE Data2 \"\n",
    "       \"(id INTEGER PRIMARY KEY AUTOINCREMENT, \"\n",
    "       \"Fruit_Type_ID TEXT, Fruit_Type TEXT)\")\n",
    "# Execute function \"execute_db\" with \"fname\" and \"sql_cmd\" being specified. \n",
    "execute_db(db_name, cmd)"
   ]
  }
 ],
 "metadata": {
  "kernelspec": {
   "display_name": "Python 3",
   "language": "python",
   "name": "python3"
  },
  "language_info": {
   "codemirror_mode": {
    "name": "ipython",
    "version": 3
   },
   "file_extension": ".py",
   "mimetype": "text/x-python",
   "name": "python",
   "nbconvert_exporter": "python",
   "pygments_lexer": "ipython3",
   "version": "3.6.5"
  }
 },
 "nbformat": 4,
 "nbformat_minor": 2
}
