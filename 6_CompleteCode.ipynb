{
 "cells": [
  {
   "cell_type": "markdown",
   "metadata": {},
   "source": [
    "# Database and Exploratory Analysis\n",
    "# 1. Preparation"
   ]
  },
  {
   "cell_type": "markdown",
   "metadata": {},
   "source": [
    "## 1.1. Import Library"
   ]
  },
  {
   "cell_type": "markdown",
   "metadata": {},
   "source": [
    "### 1.1.1. Import Standard Library"
   ]
  },
  {
   "cell_type": "code",
   "execution_count": null,
   "metadata": {},
   "outputs": [],
   "source": [
    "import glob\n",
    "import sqlite3\n",
    "import csv\n",
    "import pandas as pd\n",
    "import numpy as np"
   ]
  },
  {
   "cell_type": "markdown",
   "metadata": {},
   "source": [
    "### 1.1.2. Import Plotting Library: Matplotlib"
   ]
  },
  {
   "cell_type": "code",
   "execution_count": null,
   "metadata": {},
   "outputs": [],
   "source": [
    "import matplotlib\n",
    "import matplotlib.pyplot as plt\n",
    "import matplotlib.ticker as tkr\n",
    "from matplotlib.font_manager import FontProperties\n",
    "from matplotlib.ticker import FuncFormatter"
   ]
  },
  {
   "cell_type": "markdown",
   "metadata": {},
   "source": [
    "### 1.1.3. Import Interactive Graphing Library: Bokeh"
   ]
  },
  {
   "cell_type": "code",
   "execution_count": null,
   "metadata": {},
   "outputs": [],
   "source": [
    "from bokeh.core.properties import value\n",
    "from bokeh.io import show, output_file\n",
    "from bokeh.plotting import figure, output_notebook\n",
    "from bokeh.models import (ColumnDataSource, LogColorMapper, LinearColorMapper, ColorBar,\n",
    "SingleIntervalTicker, LogTicker, BasicTicker, NumeralTickFormatter, LinearAxis)\n",
    "from bokeh.palettes import Viridis256\n",
    "from bokeh.layouts import gridplot\n",
    "from bokeh.transform import transform"
   ]
  },
  {
   "cell_type": "markdown",
   "metadata": {},
   "source": [
    "## 1.2. Set Font Style\n",
    "Modify font style to display Chinese characters properly"
   ]
  },
  {
   "cell_type": "code",
   "execution_count": null,
   "metadata": {},
   "outputs": [],
   "source": [
    "plt.rcParams['font.family'] = ['Microsoft JhengHei'] \n",
    "plt.rcParams['font.serif'] = ['Microsoft JhengHei'] \n",
    "plt.rcParams['font.sans-serif'] = ['Microsoft JhengHei'] \n",
    "plt.rcParams['axes.unicode_minus'] = False"
   ]
  },
  {
   "cell_type": "markdown",
   "metadata": {},
   "source": [
    "# 2. Create Database"
   ]
  },
  {
   "cell_type": "markdown",
   "metadata": {},
   "source": [
    "## 2.1. Define Function"
   ]
  },
  {
   "cell_type": "markdown",
   "metadata": {},
   "source": [
    "### 2.1.1. Define Function to Execute Database Commands"
   ]
  },
  {
   "cell_type": "code",
   "execution_count": null,
   "metadata": {},
   "outputs": [],
   "source": [
    "def execute_db(fname, sql_cmd):\n",
    "    # Establish a connection to SQLite database by creating a connection object \"conn.\"\n",
    "    conn = sqlite3.connect(fname)\n",
    "    # Create a cursor object using the cursor method of \"conn.\"\n",
    "    c = conn.cursor()\n",
    "    # Call the cursor’s execute method. \n",
    "    c.execute(sql_cmd)\n",
    "    # Save the changes.\n",
    "    conn.commit()\n",
    "    # Close the connection.\n",
    "    conn.close()"
   ]
  },
  {
   "cell_type": "markdown",
   "metadata": {},
   "source": [
    "### 2.1.2. Define Function to Select Data from Database"
   ]
  },
  {
   "cell_type": "code",
   "execution_count": null,
   "metadata": {},
   "outputs": [],
   "source": [
    "def select_db(fname, sql_cmd):\n",
    "    # Establish a connection to SQLite database by creating a connection object \"conn.\"\n",
    "    conn = sqlite3.connect(fname)\n",
    "    # Create a cursor object using the cursor method of \"conn.\"\n",
    "    c = conn.cursor()\n",
    "    # Call the cursor’s execute method. \n",
    "    c.execute(sql_cmd)\n",
    "    # Fetch all rows of a query result.\n",
    "    rows = c.fetchall()\n",
    "    # Close the connection.\n",
    "    conn.close()\n",
    "    # Return query results. \n",
    "    return rows"
   ]
  },
  {
   "cell_type": "markdown",
   "metadata": {},
   "source": [
    "## 2.2. Create Blank Database"
   ]
  },
  {
   "cell_type": "markdown",
   "metadata": {},
   "source": [
    "### 2.2.1. Create a Blank Database for Data 1"
   ]
  },
  {
   "cell_type": "code",
   "execution_count": null,
   "metadata": {},
   "outputs": [],
   "source": [
    "# Create a SQLite database file named \"db1.\" \n",
    "db_name = 'db1.sqlite'\n",
    "# Create a table named \"Data1.\"\n",
    "cmd = (\"CREATE TABLE Data1 \"\n",
    "       \"(id INTEGER PRIMARY KEY AUTOINCREMENT, \"\n",
    "       \"Store TEXT, Order TEXT, \"\n",
    "       \"Fruit_Name_ID TEXT, Fruit_Name TEXT, \"\n",
    "       \"Qty INTEGER)\")\n",
    "# Execute function \"execute_db\" with \"fname\" and \"sql_cmd\" being specified. \n",
    "execute_db(db_name, cmd)"
   ]
  },
  {
   "cell_type": "markdown",
   "metadata": {},
   "source": [
    "### 2.2.2. Create a Blank Database for Data 2"
   ]
  },
  {
   "cell_type": "code",
   "execution_count": null,
   "metadata": {},
   "outputs": [],
   "source": [
    "# Create a SQLite database file named \"db2.\" \n",
    "db_name = 'db2.sqlite'\n",
    "# Create a table named \"Data2.\"\n",
    "cmd = (\"CREATE TABLE Data2 \"\n",
    "       \"(id INTEGER PRIMARY KEY AUTOINCREMENT, \"\n",
    "       \"Fruit_Type_ID TEXT, Fruit_Type TEXT)\")\n",
    "# Execute function \"execute_db\" with \"fname\" and \"sql_cmd\" being specified. \n",
    "execute_db(db_name, cmd)"
   ]
  },
  {
   "cell_type": "markdown",
   "metadata": {},
   "source": [
    "## 2.3. Import Data into Database"
   ]
  },
  {
   "cell_type": "markdown",
   "metadata": {},
   "source": [
    "### 2.3.1. Import Data 1 into Database Table"
   ]
  },
  {
   "cell_type": "code",
   "execution_count": null,
   "metadata": {},
   "outputs": [],
   "source": [
    "# Find all the files in a specific directory. \n",
    "files = glob.glob('G:\\\\Data1\\\\*.xls')\n",
    "\n",
    "for file in files:\n",
    "    # Import data from all the xls files. \n",
    "    data = pd.read_excel(file)\n",
    "    # Remove a column by index.\n",
    "    data = data.drop(data.columns[[0]], axis = 1)\n",
    "    # Establish a connection to SQLite database \"db1.\"\n",
    "    con = sqlite3.connect('db1.sqlite')\n",
    "    # Write records stored in dataframe \"data\" to table \"Data1\" in SQLite database \"db1.\"\n",
    "    # If table \"Data1\" already exists, insert new values to the existing table.\n",
    "    data.to_sql('Data1', con, index = False, if_exists = 'append')\n",
    "    # Save the changes.\n",
    "    con.commit()\n",
    "    # Close the connection.\n",
    "    con.close()  "
   ]
  },
  {
   "cell_type": "markdown",
   "metadata": {},
   "source": [
    "### 2.3.2. Import Data 2 into Database Table"
   ]
  },
  {
   "cell_type": "code",
   "execution_count": null,
   "metadata": {},
   "outputs": [],
   "source": [
    "# Import data from xlsx file.  \n",
    "data = pd.read_excel('G:\\\\Data2.xlsx')\n",
    "# Establish a connection to SQLite database \"db2.\"\n",
    "con = sqlite3.connect('db2.sqlite')\n",
    "# Write records stored in dataframe \"data\" to table \"Data2\" in SQLite database \"db2.\"\n",
    "# If table \"Data2\" already exists, insert new values to the existing table.\n",
    "data.to_sql('Data2', con, index = False, if_exists = 'append')\n",
    "# Save the changes.\n",
    "con.commit()\n",
    "# Close the connection.\n",
    "con.close()  "
   ]
  },
  {
   "cell_type": "markdown",
   "metadata": {},
   "source": [
    "# 3. Combine Data from Two Databases"
   ]
  },
  {
   "cell_type": "markdown",
   "metadata": {},
   "source": [
    "## 3.1. Option 1: Combine Data by SQL"
   ]
  },
  {
   "cell_type": "code",
   "execution_count": null,
   "metadata": {},
   "outputs": [],
   "source": [
    "# Establish a connection to SQLite database \"db1.\"\n",
    "conn = sqlite3.connect('db1.sqlite')\n",
    "# Create a cursor object using the cursor method of \"conn.\"\n",
    "c = conn.cursor()\n",
    "# Attach database \"db2\" to \"db1.\"\n",
    "c = c.execute(\"ATTACH DATABASE 'db2.sqlite' AS 'db2'\")\n",
    "# Save the changes.\n",
    "conn.commit()\n",
    "# Return all records from the left table \"Data1\" in \"db1\" aliased as \"P1\"\n",
    "# and the matched records from the right table \"Data2\" in \"db2\" aliased as \"P2\"\n",
    "# on the condition that the first 4 letters of records of \"Fruit_Name_ID\" in \"P1\" \n",
    "# are identical with records of \"Fruit_Type_ID\" in \"P2.\"\n",
    "outcome = pd.read_sql_query('''\n",
    "                            SELECT *\n",
    "                            FROM main.Data1 P1\n",
    "                            LEFT JOIN\n",
    "                            db2.Data2 P2\n",
    "                            ON SUBSTR (P1.Fruit_Name_ID, 1 ,4) = P2.Fruit_Type_ID;\n",
    "                            ''', conn)\n",
    "# Close the connection.\n",
    "conn.close() "
   ]
  },
  {
   "cell_type": "markdown",
   "metadata": {},
   "source": [
    "## 3.2. Option 2: Combine Data by Python"
   ]
  },
  {
   "cell_type": "code",
   "execution_count": null,
   "metadata": {},
   "outputs": [],
   "source": [
    "# Establish a connection to SQLite database \"db1.\"\n",
    "conn_data1 = sqlite3.connect('db1.sqlite')\n",
    "# Create a cursor object using the cursor method of \"conn_data1.\"\n",
    "cursor_data1 = conn_data1.cursor()\n",
    "# Save the changes.\n",
    "conn_data1.commit()\n",
    "# Return all records from table \"Data1\" in \"db1.\" \n",
    "data1 = pd.read_sql_query('''\n",
    "                          SELECT *\n",
    "                          FROM main.Data1\n",
    "                          ''', conn_data1)\n",
    "# Close the connection.\n",
    "conn_data1.close()"
   ]
  },
  {
   "cell_type": "code",
   "execution_count": null,
   "metadata": {},
   "outputs": [],
   "source": [
    "# Get the first 4 letters of the string for all records in \"Fruit_Name_ID\" \n",
    "# and name the column of returned values as \"Fruit_Type_ID.\"\n",
    "data1['Fruit_Type_ID'] = data1['Fruit_Name_ID'].str.slice(0,4)"
   ]
  },
  {
   "cell_type": "code",
   "execution_count": null,
   "metadata": {},
   "outputs": [],
   "source": [
    "# Establish a connection to SQLite database \"db2.\"\n",
    "conn_data2 = sqlite3.connect('db2.sqlite')\n",
    "# Create a cursor object using the cursor method of \"conn_data2.\"\n",
    "cursor_data2 = conn_data2.cursor()\n",
    "# Save the changes.\n",
    "conn_data2.commit()\n",
    "# Return all records from table \"Data2\" in \"db2.\" \n",
    "data2 = pd.read_sql_query('''\n",
    "                          SELECT *\n",
    "                          FROM main.Data2\n",
    "                          ''', conn_data2)\n",
    "# Close the connection.\n",
    "conn_data2.close()"
   ]
  },
  {
   "cell_type": "code",
   "execution_count": null,
   "metadata": {},
   "outputs": [],
   "source": [
    "# Return all records from the left table \"Data1\" in \"db1\"\n",
    "# and the matched records from the right table \"Data2\"\n",
    "# on the condition that the two tables share the same \"Fruit_Type_ID.\" \n",
    "outcome = data1.merge(data2, left_on='Fruit_Type_ID', right_on='Fruit_Type_ID', how='left')"
   ]
  },
  {
   "cell_type": "code",
   "execution_count": null,
   "metadata": {},
   "outputs": [],
   "source": [
    "# Remove columns by coulmn names.\n",
    "outcome = outcome.drop('id_x', axis = 1)\n",
    "outcome = outcome.drop('id_y', axis = 1)"
   ]
  },
  {
   "cell_type": "markdown",
   "metadata": {},
   "source": [
    "# 4. Exploratory Data Analysis"
   ]
  },
  {
   "cell_type": "code",
   "execution_count": null,
   "metadata": {},
   "outputs": [],
   "source": [
    "# Copy \"outcome\" for further analysis to prevent data corruption.\n",
    "eda1 = outcome.copy()"
   ]
  },
  {
   "cell_type": "code",
   "execution_count": null,
   "metadata": {},
   "outputs": [],
   "source": [
    "# 1st Groupby: \n",
    "# Split data into groups by \"Store\" and \"Fruit_Type\" to count frequencies of unique values. \n",
    "eda2 = eda1.groupby(['Store','Fruit_Type']).size().reset_index()\n",
    "eda2.head()"
   ]
  },
  {
   "cell_type": "code",
   "execution_count": null,
   "metadata": {},
   "outputs": [],
   "source": [
    "# Remove the 3rd column which is of no use to further analysis\n",
    "eda3 = eda2.drop(eda2.columns[2], axis = 1)\n",
    "eda3.head()"
   ]
  },
  {
   "cell_type": "code",
   "execution_count": null,
   "metadata": {},
   "outputs": [],
   "source": [
    "# 2nd Groupby:\n",
    "# Split data into groups by \"Store\" and join \"Fruit_Type\" by \",\" for each row of records.\n",
    "eda4 = eda3.groupby('Store')['Fruit_Type'].apply(','.join).reset_index()\n",
    "eda4.head()"
   ]
  },
  {
   "cell_type": "code",
   "execution_count": null,
   "metadata": {},
   "outputs": [],
   "source": [
    "# 3rd Groupby:\n",
    "# Split data into groups by \"Fruit_Type\" and count frequencies of unique values.\n",
    "eda5 = eda4.groupby('Fruit_Type').size().reset_index()\n",
    "eda5.head()"
   ]
  },
  {
   "cell_type": "code",
   "execution_count": null,
   "metadata": {},
   "outputs": [],
   "source": [
    "# Name the column of returned values as \"Count.\"\n",
    "eda5.columns = ['Fruit', 'Count']\n",
    "eda5.head()"
   ]
  },
  {
   "cell_type": "code",
   "execution_count": null,
   "metadata": {},
   "outputs": [],
   "source": [
    "# Export analysis result to csv file.\n",
    "eda5.to_csv(\"G:\\\\Analysis.csv\", index = False, encoding = \"ansi\")"
   ]
  },
  {
   "cell_type": "markdown",
   "metadata": {},
   "source": [
    "# 5. Data Visualization"
   ]
  },
  {
   "cell_type": "markdown",
   "metadata": {},
   "source": [
    "## 5.1. Import Data for Plotting"
   ]
  },
  {
   "cell_type": "code",
   "execution_count": null,
   "metadata": {},
   "outputs": [],
   "source": [
    "# Import data from csv file\n",
    "# and assign the result to an object named \"df1.\"\n",
    "df1 = pd.read_csv(\"G:\\\\Analysis.csv\", encoding = 'ansi')\n",
    "df1.head()"
   ]
  },
  {
   "cell_type": "code",
   "execution_count": null,
   "metadata": {},
   "outputs": [],
   "source": [
    "# Count the number of comma in column \"Fruit_Type\" for each string \n",
    "# and assign the result to an object named \"df2.\"\n",
    "df2 = df1['Fruit_Type'].str.count(',').to_frame()\n",
    "# Change column name to \"Comma\"\n",
    "df2.columns = ['Comma']"
   ]
  },
  {
   "cell_type": "code",
   "execution_count": null,
   "metadata": {},
   "outputs": [],
   "source": [
    "# Add column \"Comma\" to df1 \n",
    "# and assign the result to an object named \"df3.\"\n",
    "df3 = df1.join(df2)\n",
    "df3.head()"
   ]
  },
  {
   "cell_type": "code",
   "execution_count": null,
   "metadata": {},
   "outputs": [],
   "source": [
    "# Get unique values in column \"Comma.\" \n",
    "commas = list(df3.groupby('Comma').size().to_frame().reset_index()['Comma']) \n",
    "print(commas)\n",
    "# Count the number of unique values in column \"Comma\" \n",
    "# to determine the number of figures to be displayed.\n",
    "df3.groupby('Comma').size().count()"
   ]
  },
  {
   "cell_type": "code",
   "execution_count": null,
   "metadata": {},
   "outputs": [],
   "source": [
    "# Create an empty dataframe named df4.\n",
    "df4 = pd.DataFrame() "
   ]
  },
  {
   "cell_type": "code",
   "execution_count": null,
   "metadata": {},
   "outputs": [],
   "source": [
    "# For each unique value in column \"Comma,\" \n",
    "# sort df3 in descending order by column \"Count\" from which top 20 elements are to be selected\n",
    "# and added to df4. \n",
    "for comma in commas:\n",
    "    temp = df3[df3['Comma'] == comma].sort_values(['Count'], ascending = False)[0:20]\n",
    "    df4 = df4.append(temp)\n",
    "df4.head()"
   ]
  },
  {
   "cell_type": "markdown",
   "metadata": {},
   "source": [
    "## 5.2. Plot Static Bar Chart by Matplotlib"
   ]
  },
  {
   "cell_type": "code",
   "execution_count": null,
   "metadata": {},
   "outputs": [],
   "source": [
    "# Create 9 subplots composed of 3 rows with 3 graphs in a row\n",
    "# Though there are 24 unique values in column \"Comma\" and therefore 24 subplots are to be expected,\n",
    "# the excluded are those have only one record and thus are not well suited to further visualization. \n",
    "fig, axs = plt.subplots(figsize=(20,10), \n",
    "                        nrows=3, ncols=3,   \n",
    "                        gridspec_kw = dict(wspace=0.3, hspace=0.3))"
   ]
  },
  {
   "cell_type": "code",
   "execution_count": null,
   "metadata": {},
   "outputs": [],
   "source": [
    "# Get unique values in column \"Comma.\" \n",
    "grouped = df4.groupby('Comma')"
   ]
  },
  {
   "cell_type": "code",
   "execution_count": null,
   "metadata": {},
   "outputs": [],
   "source": [
    "# Set the colorbar legend.\n",
    "cmap = plt.cm.rainbow"
   ]
  },
  {
   "cell_type": "code",
   "execution_count": null,
   "metadata": {},
   "outputs": [],
   "source": [
    "# Make an iterator named \"target\" aggregating elements from\n",
    "# keys of \"grouped\" which are the number of commas and\n",
    "# flattened 3*3 array of axes to plot to all subplots in a single loop.\n",
    "targets = zip(grouped.groups.keys(), axs.flatten())"
   ]
  },
  {
   "cell_type": "code",
   "execution_count": null,
   "metadata": {},
   "outputs": [],
   "source": [
    "for i, (key, ax) in enumerate(targets):\n",
    "\n",
    "    # When the number of commas is greater than 8, \n",
    "    # there exists less than 20 records and hence should be excluded from further visualization. \n",
    "    if key > 8:\n",
    "    break\n",
    "    \n",
    "    # When the number of commas is less than 8, do as follows.\n",
    "    # Set the limits of colorbar by corresponding number of \"Count.\"        \n",
    "    norm = matplotlib.colors.Normalize(vmin=grouped.get_group(key)['Count'].values.min(), \n",
    "                                       vmax=grouped.get_group(key)['Count'].values.max())\n",
    "    \n",
    "    # Specify which color is to be applied to corresponding number of \"Count.\"\n",
    "    sm = plt.cm.ScalarMappable(cmap=cmap, norm=norm)\n",
    "    sm.set_array([])\n",
    "    \n",
    "    # Create a vertical bar chart with X-axis showing \"Fruit_Type\" whose number of \"Count\" \n",
    "    # is among top 20 and with Y-axis having range from 0 to the maximum of \"Count\" \n",
    "    # to which the colorbar applies. \n",
    "    ax.bar(grouped.get_group(key)['Fruit_Type'], grouped.get_group(key)['Count'], \n",
    "           color = cmap(norm(grouped.get_group(key)['Count'].values)))\n",
    "    \n",
    "    # Set the tilte of the subplot.\n",
    "    ax.set_title('分組%d'% (key+1), fontsize=16)\n",
    "    \n",
    "    # Set the label of Y-axis.\n",
    "    ax.set_ylabel('計數', fontsize=16)\n",
    "    \n",
    "    # When the number of commas is less than 6,\n",
    "    # which suggests that the record of \"Fruit Type\" contains 7 kinds of fruit,\n",
    "    # add thousand separator to tick labels of the colorbar which are alighed with Y-axis.    \n",
    "    if key < 6:\n",
    "        comma_fmt = FuncFormatter(lambda x, p: format(int(x), ','))\n",
    "        fig.colorbar(sm, ax=ax, ticks=ax.get_yticks(), format=comma_fmt)\n",
    "    \n",
    "    # When the number of commas is greater than or equal to 6,\n",
    "    # which suggests that the record of \"Fruit Type\" contains no less than 7 kinds of fruit,\n",
    "    # align tick labels of the colorbar with Y-axis formated without thousand separator.\n",
    "    else:\n",
    "        fig.colorbar(sm, ax=ax, ticks=ax.get_yticks())\n",
    "    \n",
    "    # Since records of \"Fruit Type\" tend to be long strings \n",
    "    # and are thus likely to overlap one another, \n",
    "    # it is better to make X-axis invisible. \n",
    "    ax.xaxis.set_visible(False)\n",
    "    \n",
    "    # Add thousand separator to labels of Y-axis.\n",
    "    ax.get_yaxis().set_major_formatter(\n",
    "    tkr.FuncFormatter(lambda x, p: format(int(x), ',')))\n",
    "   \n",
    "    # Set the font size of Y-axis labels.\n",
    "    ax.tick_params(axis='y', which='major', labelsize=12)    \n",
    "    \n",
    "plt.show()       "
   ]
  },
  {
   "cell_type": "markdown",
   "metadata": {},
   "source": [
    "## 5.3. Plot Interactive Bar Chart by Bokeh"
   ]
  },
  {
   "cell_type": "code",
   "execution_count": null,
   "metadata": {},
   "outputs": [],
   "source": [
    "# Get unique values in column \"Comma.\" \n",
    "grouped = df4.groupby('Comma')"
   ]
  },
  {
   "cell_type": "code",
   "execution_count": null,
   "metadata": {},
   "outputs": [],
   "source": [
    "# Create an empty list to store plots to be arranged in a grid. \n",
    "g = []"
   ]
  },
  {
   "cell_type": "code",
   "execution_count": null,
   "metadata": {},
   "outputs": [],
   "source": [
    "# Get keys of \"grouped\" which are the number of commas.\n",
    "targets = grouped.groups.keys()"
   ]
  },
  {
   "cell_type": "code",
   "execution_count": null,
   "metadata": {},
   "outputs": [],
   "source": [
    "# Configure an output to a standalone HTML file.\n",
    "output_file('5_3_2_InteractiveBarChart.html')"
   ]
  },
  {
   "cell_type": "code",
   "execution_count": null,
   "metadata": {},
   "outputs": [],
   "source": [
    "for i, key in enumerate(targets):\n",
    "\n",
    "    # When the number of commas is greater than 8, \n",
    "    # there exists less than 20 records and hence should be excluded from further visualization. \n",
    "    if key > 8:\n",
    "        break\n",
    "\n",
    "    # Get top 20 by column \"Count\" and their \"Fruit_Type\" and the number of \"Count\" accordingly.\n",
    "    type_list = list(grouped.get_group(key)['Fruit_Type'])[:20]\n",
    "    count_list = list(grouped.get_group(key)['Count'])[:20]\n",
    "    \n",
    "    # Specify the records to be plotted\n",
    "    source = ColumnDataSource(data={\n",
    "        'types': type_list,\n",
    "        'counts': count_list,\n",
    "    })\n",
    "    \n",
    "    # Set the colorbar legend with limits determined by corresponding number of \"Count\"  \n",
    "    mapper = LinearColorMapper(palette=Viridis256, \n",
    "                               low=grouped.get_group(key)['Count'].values.min(), \n",
    "                               high=grouped.get_group(key)['Count'].values.max())\n",
    "\n",
    "    # Set overall formats of the subplot \n",
    "    # among which the most important is to specify the display of tooltips.\n",
    "    p = figure(x_range=type_list, plot_height=10, plot_width=110, title='分組%d'% (key+1),\n",
    "               toolbar_location=None, tools=\"\", tooltips=[('類型', '@types')])\n",
    "    \n",
    "    # Create a vertical bar chart with X-axis showing \"Fruit Type\" whose number of \"Count\" \n",
    "    # is among top 20 and with bar height reflecting the number of \"Count.\"\n",
    "    p.vbar(x='types', top='counts', width=0.9, source=source, fill_color=transform('counts', mapper), \n",
    "           line_color=\"white\", line_width=0.05)\n",
    "    \n",
    "    # When the number of commas is less than 6,\n",
    "    # which suggests that the record of \"Fruit Type\" contains 7 kinds of fruit,\n",
    "    # add thousand separator to tick labels of the colorbar.  \n",
    "    if key < 6:\n",
    "        color_bar = ColorBar(color_mapper=mapper, location=(2, 2),\n",
    "                             ticker=BasicTicker(desired_num_ticks=10),\n",
    "                             formatter=NumeralTickFormatter(format='0,0'))\n",
    "        \n",
    "    # When the number of commas is greater than or equal to 6,\n",
    "    # which suggests that the record of \"Fruit Type\" contains no less than 7 kinds of fruit,\n",
    "    # add decimal points to tick labels of the colorbar. \n",
    "    else:\n",
    "        color_bar = ColorBar(color_mapper=mapper, location=(2, 2),\n",
    "                             ticker=BasicTicker(desired_num_ticks=10),\n",
    "                             formatter=NumeralTickFormatter(format='0.0[00]'))\n",
    "    \n",
    "    # Set the position of the colorbar.\n",
    "    p.add_layout(color_bar, 'right')\n",
    "\n",
    "    # Make X-grid invisible.\n",
    "    p.xgrid.grid_line_color = None\n",
    "    \n",
    "    # Make X-axis invisible.\n",
    "    p.xaxis.visible = False\n",
    "    \n",
    "    # Start the vertical scale at 0.\n",
    "    p.y_range.start = 0\n",
    "    \n",
    "    # When the number of commas is less than 6,\n",
    "    # which suggests that the record of \"Fruit Type\" contains 7 kinds of fruit,\n",
    "    # add thousand separator to labels of Y-axis. \n",
    "    if key < 6:\n",
    "        p.yaxis.formatter = NumeralTickFormatter(format='0,0')\n",
    "    \n",
    "    # When the number of commas is greater than or equal to 6,\n",
    "    # which suggests that the record of \"Fruit Type\" contains no less than 7 kinds of fruit,\n",
    "    # add decimal points to labels of Y-axis.  \n",
    "    else:\n",
    "        p.yaxis.formatter = NumeralTickFormatter(format='0.0[00]')        \n",
    "     \n",
    "    # Add the subplot to list \"g.\"\n",
    "    g.append(p)\n",
    "\n",
    "# Create a grid where all of the subplots will be placed.\n",
    "grid = gridplot(g, ncols=3, plot_width=420, plot_height=420) \n",
    "show(grid)"
   ]
  }
 ],
 "metadata": {
  "kernelspec": {
   "display_name": "Python 3",
   "language": "python",
   "name": "python3"
  },
  "language_info": {
   "codemirror_mode": {
    "name": "ipython",
    "version": 3
   },
   "file_extension": ".py",
   "mimetype": "text/x-python",
   "name": "python",
   "nbconvert_exporter": "python",
   "pygments_lexer": "ipython3",
   "version": "3.6.5"
  }
 },
 "nbformat": 4,
 "nbformat_minor": 2
}
