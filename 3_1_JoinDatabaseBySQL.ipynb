{
 "cells": [
  {
   "cell_type": "markdown",
   "metadata": {},
   "source": [
    "## 3. Combine Data from Two Databases"
   ]
  },
  {
   "cell_type": "markdown",
   "metadata": {},
   "source": [
    "### 3.1. Option 1: Combine Data by SQL"
   ]
  },
  {
   "cell_type": "code",
   "execution_count": null,
   "metadata": {},
   "outputs": [],
   "source": [
    "# Establish a connection to SQLite database \"db1.\"\n",
    "conn = sqlite3.connect('db1.sqlite')\n",
    "# Create a cursor object using the cursor method of \"conn.\"\n",
    "c = conn.cursor()\n",
    "# Attach database \"db2\" to \"db1.\"\n",
    "c = c.execute(\"ATTACH DATABASE 'db2.sqlite' AS 'db2'\")\n",
    "# Save the changes.\n",
    "conn.commit()\n",
    "# Return all records from the left table \"Data1\" in \"db1\" aliased as \"P1\"\n",
    "# and the matched records from the right table \"Data2\" in \"db2\" aliased as \"P2\"\n",
    "# on the condition that the first 4 letters of records of \"Fruit_Name_ID\" in \"P1\" \n",
    "# are identical with records of \"Fruit_Type_ID\" in \"P2.\"\n",
    "outcome = pd.read_sql_query('''\n",
    "                            SELECT *\n",
    "                            FROM main.Data1 P1\n",
    "                            LEFT JOIN\n",
    "                            db2.Data2 P2\n",
    "                            ON SUBSTR (P1.Fruit_Name_ID, 1 ,4) = P2.Fruit_Type_ID;\n",
    "                            ''', conn)\n",
    "# Close the connection.\n",
    "conn.close() "
   ]
  }
 ],
 "metadata": {
  "kernelspec": {
   "display_name": "Python 3",
   "language": "python",
   "name": "python3"
  },
  "language_info": {
   "codemirror_mode": {
    "name": "ipython",
    "version": 3
   },
   "file_extension": ".py",
   "mimetype": "text/x-python",
   "name": "python",
   "nbconvert_exporter": "python",
   "pygments_lexer": "ipython3",
   "version": "3.6.5"
  }
 },
 "nbformat": 4,
 "nbformat_minor": 2
}
