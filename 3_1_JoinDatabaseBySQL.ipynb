{
 "cells": [
  {
   "cell_type": "markdown",
   "metadata": {},
   "source": [
    "## 3. Combine Data from Two Databases"
   ]
  },
  {
   "cell_type": "markdown",
   "metadata": {},
   "source": [
    "### 3.1. Option 1: Combine Data by SQL"
   ]
  },
  {
   "cell_type": "code",
   "execution_count": null,
   "metadata": {},
   "outputs": [],
   "source": [
    "conn = sqlite3.connect('db1.sqlite')\n",
    "c = conn.cursor()\n",
    "c = c.execute(\"ATTACH DATABASE 'db2.sqlite' AS 'db2'\")\n",
    "conn.commit()\n",
    "\n",
    "outcome = pd.read_sql_query('''\n",
    "                            SELECT *\n",
    "                            FROM main.Data1 P1\n",
    "                            LEFT JOIN\n",
    "                            db2.Data2 P2\n",
    "                            ON SUBSTR (P1.D, 1 ,4) = P2.Q;\n",
    "                            ''', conn)\n",
    "\n",
    "conn.close() "
   ]
  },
  {
   "cell_type": "markdown",
   "metadata": {},
   "source": [
    "### 3.2. Option 2: Combine Data by Python"
   ]
  },
  {
   "cell_type": "code",
   "execution_count": null,
   "metadata": {},
   "outputs": [],
   "source": [
    "conn_data1 = sqlite3.connect('db1.sqlite')\n",
    "cursor_data1 = conn_data1.cursor()\n",
    "conn_data1.commit()\n",
    "\n",
    "data1 = pd.read_sql_query('''\n",
    "                          SELECT *\n",
    "                          FROM main.Data1\n",
    "                          ''', conn_data1)\n",
    "conn_data1.close()"
   ]
  },
  {
   "cell_type": "code",
   "execution_count": null,
   "metadata": {},
   "outputs": [],
   "source": [
    "data1['Q'] = data1['D'].str.slice(0,4)"
   ]
  },
  {
   "cell_type": "code",
   "execution_count": null,
   "metadata": {},
   "outputs": [],
   "source": [
    "conn_data2 = sqlite3.connect('db2.sqlite')\n",
    "cursor_data2 = conn_data2.cursor()\n",
    "conn_data2.commit()\n",
    "data2 = pd.read_sql_query('''\n",
    "                          SELECT *\n",
    "                          FROM main.Data2\n",
    "                          ''', conn_data2)\n",
    "conn_data2.close()"
   ]
  },
  {
   "cell_type": "code",
   "execution_count": null,
   "metadata": {},
   "outputs": [],
   "source": [
    "outcome = data1.merge(data2, left_on = 'Q', right_on = 'Q', how = 'left')"
   ]
  },
  {
   "cell_type": "code",
   "execution_count": null,
   "metadata": {},
   "outputs": [],
   "source": [
    "outcome = outcome.drop('id_x', axis = 1)\n",
    "outcome = outcome.drop('id_y', axis = 1)"
   ]
  }
 ],
 "metadata": {
  "kernelspec": {
   "display_name": "Python 3",
   "language": "python",
   "name": "python3"
  },
  "language_info": {
   "codemirror_mode": {
    "name": "ipython",
    "version": 3
   },
   "file_extension": ".py",
   "mimetype": "text/x-python",
   "name": "python",
   "nbconvert_exporter": "python",
   "pygments_lexer": "ipython3",
   "version": "3.6.5"
  }
 },
 "nbformat": 4,
 "nbformat_minor": 2
}
