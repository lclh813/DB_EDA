{
 "cells": [
  {
   "cell_type": "markdown",
   "metadata": {},
   "source": [
    "## 2.3. Import Data into Database"
   ]
  },
  {
   "cell_type": "markdown",
   "metadata": {},
   "source": [
    "### 2.3.1. Import Data 1 into Database Table"
   ]
  },
  {
   "cell_type": "code",
   "execution_count": null,
   "metadata": {},
   "outputs": [],
   "source": [
    "# Find all the files in a specific directory. \n",
    "files = glob.glob('G:\\\\Data1\\\\*.xls')\n",
    "\n",
    "for file in files:\n",
    "    # Import data from all the xls files. \n",
    "    data = pd.read_excel(file)\n",
    "    # Remove a column by index.\n",
    "    data = data.drop(data.columns[[0]], axis = 1)\n",
    "    # Establish a connection to SQLite database \"db1.\"\n",
    "    con = sqlite3.connect('db1.sqlite')\n",
    "    # Write records stored in dataframe \"data\" to table \"Data1\" in SQLite database \"db1.\"\n",
    "    # If table \"Data1\" already exists, insert new values to the existing table.\n",
    "    data.to_sql('Data1', con, index = False, if_exists = 'append')\n",
    "    # Save the changes.\n",
    "    con.commit()\n",
    "    # Close the connection.\n",
    "    con.close()  "
   ]
  },
  {
   "cell_type": "markdown",
   "metadata": {},
   "source": [
    "### 2.3.2. Import Data 2 into Database Table"
   ]
  },
  {
   "cell_type": "code",
   "execution_count": null,
   "metadata": {},
   "outputs": [],
   "source": [
    "# Import data from xlsx file.  \n",
    "data = pd.read_excel('G:\\\\Data2.xlsx')\n",
    "# Establish a connection to SQLite database \"db2.\"\n",
    "con = sqlite3.connect('db2.sqlite')\n",
    "# Write records stored in dataframe \"data\" to table \"Data2\" in SQLite database \"db2.\"\n",
    "# If table \"Data2\" already exists, insert new values to the existing table.\n",
    "data.to_sql('Data2', con, index = False, if_exists = 'append')\n",
    "# Save the changes.\n",
    "con.commit()\n",
    "# Close the connection.\n",
    "con.close()  "
   ]
  }
 ],
 "metadata": {
  "kernelspec": {
   "display_name": "Python 3",
   "language": "python",
   "name": "python3"
  },
  "language_info": {
   "codemirror_mode": {
    "name": "ipython",
    "version": 3
   },
   "file_extension": ".py",
   "mimetype": "text/x-python",
   "name": "python",
   "nbconvert_exporter": "python",
   "pygments_lexer": "ipython3",
   "version": "3.6.5"
  }
 },
 "nbformat": 4,
 "nbformat_minor": 2
}
