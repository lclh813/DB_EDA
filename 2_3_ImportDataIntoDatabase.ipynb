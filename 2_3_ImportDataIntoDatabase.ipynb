{
 "cells": [
  {
   "cell_type": "markdown",
   "metadata": {},
   "source": [
    "### 2.3. Import Data into Database"
   ]
  },
  {
   "cell_type": "markdown",
   "metadata": {},
   "source": [
    "### 2.3.1. Import Data 1 into Database Table"
   ]
  },
  {
   "cell_type": "code",
   "execution_count": null,
   "metadata": {},
   "outputs": [],
   "source": [
    "files = glob.glob('G:\\\\Data1\\\\*.xls')\n",
    "\n",
    "for file in files:\n",
    "    data = pd.read_excel(file)\n",
    "    \n",
    "    data = data.drop(data.columns[[0]], axis = 1)\n",
    "    \n",
    "    con = sqlite3.connect('db1.sqlite')\n",
    "    data.to_sql('Data1', con, index = False, if_exists = 'append')\n",
    "\n",
    "    con.commit()\n",
    "    con.close()  "
   ]
  },
  {
   "cell_type": "markdown",
   "metadata": {},
   "source": [
    "### 2.3.2. Import Data 2 into Database Table"
   ]
  },
  {
   "cell_type": "code",
   "execution_count": null,
   "metadata": {},
   "outputs": [],
   "source": [
    "data = pd.read_excel('G:\\\\Data2.xlsx')\n",
    "con = sqlite3.connect('db2.sqlite')\n",
    "data.to_sql('Data2', con, index = False, if_exists = 'append')\n",
    "\n",
    "con.commit()\n",
    "con.close()  "
   ]
  }
 ],
 "metadata": {
  "kernelspec": {
   "display_name": "Python 3",
   "language": "python",
   "name": "python3"
  },
  "language_info": {
   "codemirror_mode": {
    "name": "ipython",
    "version": 3
   },
   "file_extension": ".py",
   "mimetype": "text/x-python",
   "name": "python",
   "nbconvert_exporter": "python",
   "pygments_lexer": "ipython3",
   "version": "3.6.5"
  }
 },
 "nbformat": 4,
 "nbformat_minor": 2
}
